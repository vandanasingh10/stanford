{
 "cells": [
  {
   "cell_type": "code",
   "execution_count": 1,
   "metadata": {},
   "outputs": [],
   "source": [
    "from IPython.core.interactiveshell import InteractiveShell \n",
    "InteractiveShell.ast_node_interactivity = \"all\"\n",
    "\n",
    "%load_ext autoreload\n",
    "%autoreload 2\n",
    "\n",
    "from vocab import VocabEntry\n",
    "from utils import pad_sents_char\n",
    "\n",
    "import torch\n",
    "import torch.nn as nn\n",
    "import torch.nn.functional as F"
   ]
  },
  {
   "cell_type": "code",
   "execution_count": 2,
   "metadata": {},
   "outputs": [
    {
     "data": {
      "text/plain": [
       "4"
      ]
     },
     "execution_count": 2,
     "metadata": {},
     "output_type": "execute_result"
    }
   ],
   "source": [
    "sentences = [['Human:', 'What', 'do', 'we', 'want?'], \n",
    "             ['Computer:', 'Natural', 'language', 'processing!'],\n",
    "             ['Human:', 'When', 'do', 'we', 'want', 'it?'], \n",
    "             ['Computer:', 'When', 'do', 'we', 'want', 'what?']]\n",
    "\n",
    "len(sentences)"
   ]
  },
  {
   "cell_type": "markdown",
   "metadata": {},
   "source": [
    "### VocabEntry"
   ]
  },
  {
   "cell_type": "code",
   "execution_count": 74,
   "metadata": {},
   "outputs": [
    {
     "data": {
      "text/plain": [
       "torch.Size([6, 4, 21])"
      ]
     },
     "execution_count": 74,
     "metadata": {},
     "output_type": "execute_result"
    }
   ],
   "source": [
    "from vocab import VocabEntry\n",
    "voc_entry = VocabEntry()\n",
    "voc_entry_output = voc_entry.to_input_tensor_char(sentences, 'cpu')\n",
    "voc_entry_output.shape\n",
    "#voc_entry_output"
   ]
  },
  {
   "cell_type": "markdown",
   "metadata": {},
   "source": [
    "### Vocab"
   ]
  },
  {
   "cell_type": "code",
   "execution_count": 75,
   "metadata": {},
   "outputs": [
    {
     "name": "stdout",
     "output_type": "stream",
     "text": [
      "initialize source vocabulary ..\n",
      "number of word types: 128, number of word types w/ frequency >= 1: 128\n",
      "initialize target vocabulary ..\n",
      "number of word types: 130, number of word types w/ frequency >= 1: 130\n"
     ]
    }
   ],
   "source": [
    "from utils import read_corpus\n",
    "from vocab import Vocab\n",
    "src_sents = read_corpus('./en_es_data/train_tiny.es', source='src')\n",
    "tgt_sents = read_corpus('./en_es_data/train_tiny.en', source='tgt')\n",
    "\n",
    "vocab = Vocab.build(src_sents, tgt_sents, vocab_size=200, freq_cutoff=1)"
   ]
  },
  {
   "cell_type": "code",
   "execution_count": 5,
   "metadata": {},
   "outputs": [
    {
     "data": {
      "text/plain": [
       "0"
      ]
     },
     "execution_count": 5,
     "metadata": {},
     "output_type": "execute_result"
    }
   ],
   "source": [
    "vocab.src['<pad>']"
   ]
  },
  {
   "cell_type": "markdown",
   "metadata": {},
   "source": [
    "### CNN"
   ]
  },
  {
   "cell_type": "code",
   "execution_count": 26,
   "metadata": {},
   "outputs": [
    {
     "data": {
      "text/plain": [
       "torch.Size([2, 1])"
      ]
     },
     "execution_count": 26,
     "metadata": {},
     "output_type": "execute_result"
    },
    {
     "data": {
      "text/plain": [
       "tensor([[0.7477],\n",
       "        [0.8650]], grad_fn=<MaxBackward0>)"
      ]
     },
     "execution_count": 26,
     "metadata": {},
     "output_type": "execute_result"
    }
   ],
   "source": [
    "from cnn import CNN\n",
    "\n",
    "input_data = torch.randn(2,3,6) # num_of_sentence, num_of_dim per word, num_of_words_per_sent\n",
    "\n",
    "cnn_obj = CNN(3, 1)\n",
    "\n",
    "output = cnn_obj(input_data)\n",
    "\n",
    "output.shape\n",
    "output"
   ]
  },
  {
   "cell_type": "markdown",
   "metadata": {},
   "source": [
    "### Highway"
   ]
  },
  {
   "cell_type": "code",
   "execution_count": 76,
   "metadata": {},
   "outputs": [
    {
     "data": {
      "text/plain": [
       "torch.Size([2, 3, 5])"
      ]
     },
     "execution_count": 76,
     "metadata": {},
     "output_type": "execute_result"
    }
   ],
   "source": [
    "from highway import Highway\n",
    "highway_obj = Highway(5)\n",
    "\n",
    "x_input = torch.randn(2,3,5)\n",
    "\n",
    "highway_obj(x_input).shape"
   ]
  },
  {
   "cell_type": "markdown",
   "metadata": {},
   "source": [
    "### Model_Embedding"
   ]
  },
  {
   "cell_type": "code",
   "execution_count": 77,
   "metadata": {},
   "outputs": [],
   "source": [
    "# initialization of model embedding\n",
    "from model_embeddings import ModelEmbeddings\n",
    "\n",
    "voc_entry = VocabEntry()\n",
    "voc_entry_output = voc_entry.to_input_tensor_char(sentences, 'cpu')\n",
    "\n",
    "model_embed_obj = ModelEmbeddings(5, vocab.src)"
   ]
  },
  {
   "cell_type": "markdown",
   "metadata": {},
   "source": [
    "#### x_padded to x_word_emb. that is the goal\n",
    "\n",
    "- feed x_padded to x_emb\n",
    "- Embedding to CNN\n",
    "- CNN to Highway"
   ]
  },
  {
   "cell_type": "code",
   "execution_count": 78,
   "metadata": {},
   "outputs": [
    {
     "data": {
      "text/plain": [
       "torch.Size([6, 4, 21])"
      ]
     },
     "execution_count": 78,
     "metadata": {},
     "output_type": "execute_result"
    },
    {
     "data": {
      "text/plain": [
       "torch.Size([6, 4, 5])"
      ]
     },
     "execution_count": 78,
     "metadata": {},
     "output_type": "execute_result"
    }
   ],
   "source": [
    "## use of model embedding\n",
    "\n",
    "voc_entry = VocabEntry()\n",
    "voc_entry_output = voc_entry.to_input_tensor_char(sentences, 'cpu')\n",
    "voc_entry_output.shape\n",
    "#voc_entry_output\n",
    "\n",
    "output = model_embed_obj(voc_entry_output)\n",
    "output.shape"
   ]
  },
  {
   "cell_type": "markdown",
   "metadata": {},
   "source": [
    "## CharDecoder"
   ]
  },
  {
   "cell_type": "code",
   "execution_count": 246,
   "metadata": {},
   "outputs": [],
   "source": [
    "from char_decoder import CharDecoder\n",
    "import json\n",
    "\n",
    "class DummyVocab():\n",
    "    def __init__(self):\n",
    "        self.char2id = json.load(open('./sanity_check_en_es_data/char_vocab_sanity_check.json', 'r'))\n",
    "        self.id2char = {id: char for char, id in self.char2id.items()}\n",
    "        self.char_unk = self.char2id['<unk>']\n",
    "        self.start_of_word = self.char2id[\"{\"]\n",
    "        self.end_of_word = self.char2id[\"}\"]\n",
    "\n",
    "char_vocab = DummyVocab()\n",
    "    \n",
    "char_decoder = CharDecoder(\n",
    "        hidden_size=3,\n",
    "        char_embedding_size=3,\n",
    "        target_vocab=char_vocab)"
   ]
  },
  {
   "cell_type": "code",
   "execution_count": 252,
   "metadata": {},
   "outputs": [
    {
     "data": {
      "text/plain": [
       "torch.Size([3, 5, 10])"
      ]
     },
     "execution_count": 252,
     "metadata": {},
     "output_type": "execute_result"
    },
    {
     "data": {
      "text/plain": [
       "30"
      ]
     },
     "execution_count": 252,
     "metadata": {},
     "output_type": "execute_result"
    }
   ],
   "source": [
    "a = torch.rand(3,5,10)\n",
    "a.shape\n",
    "len(char_vocab.char2id)\n",
    "\n",
    "a.shape\n",
    "a.numel()\n",
    "a.view(-1, len(char_vocab.char2id)).shape\n",
    "a.view(-1, len(char_vocab.char2id)).numel()"
   ]
  },
  {
   "cell_type": "code",
   "execution_count": 262,
   "metadata": {},
   "outputs": [
    {
     "data": {
      "text/plain": [
       "tensor([[0, 0, 0],\n",
       "        [0, 0, 0],\n",
       "        [0, 0, 0],\n",
       "        [0, 0, 0]])"
      ]
     },
     "execution_count": 262,
     "metadata": {},
     "output_type": "execute_result"
    },
    {
     "data": {
      "text/plain": [
       "tensor([0, 0, 0, 0, 0, 0, 0, 0, 0])"
      ]
     },
     "execution_count": 262,
     "metadata": {},
     "output_type": "execute_result"
    }
   ],
   "source": [
    "inpt = torch.zeros(4, 3, dtype=torch.long)\n",
    "inpt\n",
    "inpt[1:].contiguous().view(-1)"
   ]
  },
  {
   "cell_type": "code",
   "execution_count": null,
   "metadata": {},
   "outputs": [],
   "source": [
    "\n",
    "(s_t.view(-1, len(self.target_vocab.char2id)), char_sequence[1:].contiguous().view(-1))\n"
   ]
  },
  {
   "cell_type": "code",
   "execution_count": 264,
   "metadata": {},
   "outputs": [
    {
     "data": {
      "text/plain": [
       "torch.Size([20, 2, 21])"
      ]
     },
     "execution_count": 264,
     "metadata": {},
     "output_type": "execute_result"
    }
   ],
   "source": [
    "a = torch.rand(20,2,21)\n",
    "a.shape"
   ]
  },
  {
   "cell_type": "code",
   "execution_count": 269,
   "metadata": {},
   "outputs": [
    {
     "data": {
      "text/plain": [
       "torch.Size([19, 2, 21])"
      ]
     },
     "execution_count": 269,
     "metadata": {},
     "output_type": "execute_result"
    },
    {
     "data": {
      "text/plain": [
       "torch.Size([38, 21])"
      ]
     },
     "execution_count": 269,
     "metadata": {},
     "output_type": "execute_result"
    }
   ],
   "source": [
    "#a[1:].view(-1, 21)\n",
    "a[1:].shape\n",
    "a[1:].view(-1, 21).shape"
   ]
  },
  {
   "cell_type": "markdown",
   "metadata": {},
   "source": [
    "## Embedding Exploration"
   ]
  },
  {
   "cell_type": "code",
   "execution_count": 32,
   "metadata": {},
   "outputs": [
    {
     "data": {
      "text/plain": [
       "torch.Size([1, 5])"
      ]
     },
     "execution_count": 32,
     "metadata": {},
     "output_type": "execute_result"
    },
    {
     "data": {
      "text/plain": [
       "torch.Size([1, 5, 3])"
      ]
     },
     "execution_count": 32,
     "metadata": {},
     "output_type": "execute_result"
    }
   ],
   "source": [
    "embedding = nn.Embedding(10, 3) # maximum number of words is 10. Each word to 3 dims\n",
    "#embedding.weight\n",
    "input_data = torch.LongTensor([[0,2,0,5, 9]])   # here 0, 2, 5, 9 are the integer index of the word\n",
    "input_data.shape ## torch.Size([1, 5])\n",
    "\n",
    "output = embedding(input_data)\n",
    "output.shape   # torch.Size([1, 5, 3])"
   ]
  },
  {
   "cell_type": "code",
   "execution_count": null,
   "metadata": {},
   "outputs": [],
   "source": [
    "embedding = nn.Embedding(10, 3, padding_idx=0)\n",
    "input = torch.LongTensor([[0,2,0,5]])\n",
    "embedding(input)\n"
   ]
  },
  {
   "cell_type": "code",
   "execution_count": null,
   "metadata": {},
   "outputs": [],
   "source": [
    "embedding = nn.Embedding(10, 3)\n",
    "embedding.weight\n",
    "input = torch.LongTensor([[0,2,0,5, 9]])\n",
    "embedding(input)"
   ]
  },
  {
   "cell_type": "code",
   "execution_count": null,
   "metadata": {},
   "outputs": [],
   "source": [
    "embedding = nn.Embedding(10, 3, padding_idx=2)\n",
    "embedding.weight\n",
    "input = torch.LongTensor([[0,2,0,5, 9]])\n",
    "input\n",
    "input.shape\n",
    "output = embedding(input)\n",
    "output\n",
    "output.shape"
   ]
  },
  {
   "cell_type": "code",
   "execution_count": 28,
   "metadata": {},
   "outputs": [
    {
     "data": {
      "text/plain": [
       "torch.Size([15, 1, 5])"
      ]
     },
     "execution_count": 28,
     "metadata": {},
     "output_type": "execute_result"
    },
    {
     "data": {
      "text/plain": [
       "torch.Size([15, 1, 5, 3])"
      ]
     },
     "execution_count": 28,
     "metadata": {},
     "output_type": "execute_result"
    }
   ],
   "source": [
    "embedding = nn.Embedding(10, 3, padding_idx=0)\n",
    "\n",
    "input = torch.randint(0,10, (15, 1, 5))  # 15 sent lenght, 1 batch, each senten has 5 words\n",
    "input.shape\n",
    "output = embedding(input)\n",
    "output.shape"
   ]
  },
  {
   "cell_type": "code",
   "execution_count": null,
   "metadata": {},
   "outputs": [],
   "source": [
    "output[1,0,:2]"
   ]
  },
  {
   "cell_type": "code",
   "execution_count": null,
   "metadata": {},
   "outputs": [],
   "source": [
    "input[1,0,:2]"
   ]
  },
  {
   "cell_type": "markdown",
   "metadata": {},
   "source": [
    "## Conv1D exploration"
   ]
  },
  {
   "cell_type": "code",
   "execution_count": null,
   "metadata": {},
   "outputs": [],
   "source": [
    "my_input = torch.ones(1, 4, 5) # there are 4 words each of which has 5 dimensions\n",
    "my_input.shape\n",
    "\n",
    "# we want number of dimensions as rows and number of words as columns\n",
    "rand_arr_permute = my_input.clone().permute(0,2,1)\n",
    "rand_arr_permute.shape\n",
    "\n",
    "# how conv1d input and output shapes are related\n",
    "conv1 = nn.Conv1d(5, 1, (2,)) # 5 dims (see my_input), 1 output channel, kernel=(2,)\n",
    "conv1.weight\n",
    "conv1.bias\n",
    "\n",
    "with torch.no_grad():\n",
    "    conv1.weight.fill_(1)\n",
    "    conv1.bias.fill_(0)\n",
    "    print(torch.sum((rand_arr_permute[:,:,:2]*conv1.weight)) + conv1.bias)\n",
    "    \n",
    "    output = conv1(rand_arr_permute)\n",
    "    print(output)\n",
    "    print(output.shape)\n"
   ]
  },
  {
   "cell_type": "markdown",
   "metadata": {},
   "source": [
    "#### Conv1D with 4 dimensions"
   ]
  },
  {
   "cell_type": "code",
   "execution_count": 55,
   "metadata": {},
   "outputs": [
    {
     "data": {
      "text/plain": [
       "torch.Size([2, 3, 4, 10])"
      ]
     },
     "execution_count": 55,
     "metadata": {},
     "output_type": "execute_result"
    },
    {
     "data": {
      "text/plain": [
       "torch.Size([2, 3, 10, 4])"
      ]
     },
     "execution_count": 55,
     "metadata": {},
     "output_type": "execute_result"
    },
    {
     "data": {
      "text/plain": [
       "torch.Size([6, 10, 4])"
      ]
     },
     "execution_count": 55,
     "metadata": {},
     "output_type": "execute_result"
    }
   ],
   "source": [
    "a = torch.randint(1, 20, (2,3,4,10)) # batch 2, sentences 3, words 4 per sent, embed 5 per word\n",
    "a = torch.randn(2,3,4,10)\n",
    "a.shape\n",
    "\n",
    "# let us permute so bring 10 at -2 \n",
    "b = a.permute(0,1,3,2)\n",
    "b.shape\n",
    "\n",
    "# but conv1d does not take 4 dimension. So, reduce it to 3\n",
    "b_reduced = b.view(-1, b.shape[-2], b.shape[-1])\n",
    "b_reduced.shape"
   ]
  },
  {
   "cell_type": "code",
   "execution_count": 56,
   "metadata": {},
   "outputs": [],
   "source": [
    "# goal is to reduce the embed size of 10  to 5\n",
    "# b_reduced.shape = torch.Size([6, 10, 4])\n",
    "# expected shape is 6, 5 , <>\n",
    "conv1 = nn.Conv1d(10, 5, 2) "
   ]
  },
  {
   "cell_type": "code",
   "execution_count": 58,
   "metadata": {},
   "outputs": [
    {
     "data": {
      "text/plain": [
       "torch.Size([6, 5, 3])"
      ]
     },
     "execution_count": 58,
     "metadata": {},
     "output_type": "execute_result"
    }
   ],
   "source": [
    "c = conv1(b_reduced)\n",
    "c.shape"
   ]
  },
  {
   "cell_type": "code",
   "execution_count": null,
   "metadata": {},
   "outputs": [],
   "source": [
    "sents = [[[1, 30, 2],         [1, 31, 2], [1, 32, 70, 2]], \n",
    "         [[1, 85, 33, 85, 2], [1, 32, 2], [1, 31, 2], [1, 30, 2]]]\n"
   ]
  },
  {
   "cell_type": "code",
   "execution_count": null,
   "metadata": {},
   "outputs": [],
   "source": [
    "[[[1, 11, 50, 42, 30, 43, 71, 2, 0, 0, 0, 0, 0, 0, 0, 0, 0, 0, 0, 0, 0], [1, 26, 37, 30, 49, 2, 0, 0, 0, 0, 0, 0, 0, 0, 0, 0, 0, 0, 0, 0, 0], [1, 33, 44, 2, 0, 0, 0, 0, 0, 0, 0, 0, 0, 0, 0, 0, 0, 0, 0, 0, 0], [1, 52, 34, 2, 0, 0, 0, 0, 0, 0, 0, 0, 0, 0, 0, 0, 0, 0, 0, 0, 0], [1, 52, 30, 43, 49, 70, 2, 0, 0, 0, 0, 0, 0, 0, 0, 0, 0, 0, 0, 0, 0], [0, 0, 0, 0, 0, 0, 0, 0, 0, 0, 0, 0, 0, 0, 0, 0, 0, 0, 0, 0, 0]], [[1, 6, 44, 42, 45, 50, 49, 34, 47, 71, 2, 0, 0, 0, 0, 0, 0, 0, 0, 0, 0], [1, 17, 30, 49, 50, 47, 30, 41, 2, 0, 0, 0, 0, 0, 0, 0, 0, 0, 0, 0, 0], [1, 41, 30, 43, 36, 50, 30, 36, 34, 2, 0, 0, 0, 0, 0, 0, 0, 0, 0, 0, 0], [1, 45, 47, 44, 32, 34, 48, 48, 38, 43, 36, 69, 2, 0, 0, 0, 0, 0, 0, 0, 0], [0, 0, 0, 0, 0, 0, 0, 0, 0, 0, 0, 0, 0, 0, 0, 0, 0, 0, 0, 0, 0], [0, 0, 0, 0, 0, 0, 0, 0, 0, 0, 0, 0, 0, 0, 0, 0, 0, 0, 0, 0, 0]], [[1, 11, 50, 42, 30, 43, 71, 2, 0, 0, 0, 0, 0, 0, 0, 0, 0, 0, 0, 0, 0], [1, 26, 37, 34, 43, 2, 0, 0, 0, 0, 0, 0, 0, 0, 0, 0, 0, 0, 0, 0, 0], [1, 33, 44, 2, 0, 0, 0, 0, 0, 0, 0, 0, 0, 0, 0, 0, 0, 0, 0, 0, 0], [1, 52, 34, 2, 0, 0, 0, 0, 0, 0, 0, 0, 0, 0, 0, 0, 0, 0, 0, 0, 0], [1, 52, 30, 43, 49, 2, 0, 0, 0, 0, 0, 0, 0, 0, 0, 0, 0, 0, 0, 0, 0], [1, 38, 49, 70, 2, 0, 0, 0, 0, 0, 0, 0, 0, 0, 0, 0, 0, 0, 0, 0, 0]], [[1, 6, 44, 42, 45, 50, 49, 34, 47, 71, 2, 0, 0, 0, 0, 0, 0, 0, 0, 0, 0], [1, 26, 37, 34, 43, 2, 0, 0, 0, 0, 0, 0, 0, 0, 0, 0, 0, 0, 0, 0, 0], [1, 33, 44, 2, 0, 0, 0, 0, 0, 0, 0, 0, 0, 0, 0, 0, 0, 0, 0, 0, 0], [1, 52, 34, 2, 0, 0, 0, 0, 0, 0, 0, 0, 0, 0, 0, 0, 0, 0, 0, 0, 0], [1, 52, 30, 43, 49, 2, 0, 0, 0, 0, 0, 0, 0, 0, 0, 0, 0, 0, 0, 0, 0], [1, 52, 37, 30, 49, 70, 2, 0, 0, 0, 0, 0, 0, 0, 0, 0, 0, 0, 0, 0, 0]]] \n",
    "\n",
    "[[[1, 11, 50, 42, 30, 43, 71, 2, 0, 0, 0, 0, 0], [1, 26, 37, 30, 49, 2, 0, 0, 0, 0, 0, 0, 0], [1, 33, 44, 2, 0, 0, 0, 0, 0, 0, 0, 0, 0], [1, 52, 34, 2, 0, 0, 0, 0, 0, 0, 0, 0, 0], [1, 52, 30, 43, 49, 70, 2, 0, 0, 0, 0, 0, 0], [0, 0, 0, 0, 0, 0, 0, 0, 0, 0, 0, 0, 0]], [[1, 6, 44, 42, 45, 50, 49, 34, 47, 71, 2, 0, 0], [1, 17, 30, 49, 50, 47, 30, 41, 2, 0, 0, 0, 0], [1, 41, 30, 43, 36, 50, 30, 36, 34, 2, 0, 0, 0], [1, 45, 47, 44, 32, 34, 48, 48, 38, 43, 36, 69, 2], [0, 0, 0, 0, 0, 0, 0, 0, 0, 0, 0, 0, 0], [0, 0, 0, 0, 0, 0, 0, 0, 0, 0, 0, 0, 0]], [[1, 11, 50, 42, 30, 43, 71, 2, 0, 0, 0, 0, 0], [1, 26, 37, 34, 43, 2, 0, 0, 0, 0, 0, 0, 0], [1, 33, 44, 2, 0, 0, 0, 0, 0, 0, 0, 0, 0], [1, 52, 34, 2, 0, 0, 0, 0, 0, 0, 0, 0, 0], [1, 52, 30, 43, 49, 2, 0, 0, 0, 0, 0, 0, 0], [1, 38, 49, 70, 2, 0, 0, 0, 0, 0, 0, 0, 0]], [[1, 6, 44, 42, 45, 50, 49, 34, 47, 71, 2, 0, 0], [1, 26, 37, 34, 43, 2, 0, 0, 0, 0, 0, 0, 0], [1, 33, 44, 2, 0, 0, 0, 0, 0, 0, 0, 0, 0], [1, 52, 34, 2, 0, 0, 0, 0, 0, 0, 0, 0, 0], [1, 52, 30, 43, 49, 2, 0, 0, 0, 0, 0, 0, 0], [1, 52, 37, 30, 49, 70, 2, 0, 0, 0, 0, 0, 0]]]"
   ]
  },
  {
   "cell_type": "code",
   "execution_count": null,
   "metadata": {},
   "outputs": [],
   "source": [
    "import torch\n"
   ]
  },
  {
   "cell_type": "code",
   "execution_count": null,
   "metadata": {},
   "outputs": [],
   "source": [
    "a = [[1,2], [3,4]]\n",
    "torch.IntTensor(a)"
   ]
  },
  {
   "cell_type": "code",
   "execution_count": null,
   "metadata": {},
   "outputs": [],
   "source": [
    "max_sent_len = max([len(s) for s in sents])\n",
    "max_word_len = max([max([len(w) for w in s]) for s in sents])\n",
    "sents_padded = []\n",
    "\n",
    "char_pad_token = 0\n",
    "\n",
    "for s in sents:\n",
    "    words_padded = []\n",
    "    for w in s:\n",
    "        padded_word = [char_pad_token] * max_word_len\n",
    "        padded_word[:len(w)] = w\n",
    "        words_padded.append(padded_word)\n",
    "    print(words_padded)\n",
    "        \n",
    "    padded_sent = [[char_pad_token]*max_word_len] * max_sent_len\n",
    "    padded_sent[:len(words_padded)] = words_padded\n",
    "    sents_padded.append(padded_sent)\n",
    "    \n",
    "\n",
    "\n",
    "sents_padded"
   ]
  },
  {
   "cell_type": "code",
   "execution_count": null,
   "metadata": {},
   "outputs": [],
   "source": [
    "char_pad_token = 0\n",
    "[[char_pad_token]*max_word_len]*max_sent_len"
   ]
  },
  {
   "cell_type": "code",
   "execution_count": null,
   "metadata": {},
   "outputs": [],
   "source": [
    "my_input = torch.ones(1, 4, 5) # there are 3 words each of which has 5 dimensions\n",
    "my_input.shape\n",
    "\n",
    "# we want number of dimensions as rows and number of words as columns\n",
    "rand_arr_permute = my_input.clone().permute(0,2,1)\n",
    "\n",
    "print('input shape ', rand_arr_permute.shape)\n",
    "\n",
    "# how conv1d input and output shapes are related\n",
    "conv1 = nn.Conv1d(5, 50, (2,)) # here 50 is embedding dimension\n",
    "output = conv1(rand_arr_permute)\n",
    "\n",
    "print('conv1 output shape', output.shape)\n",
    "\n",
    "# but, we are getting 3 in torch.Size([1, 50, 3])\n",
    "\n",
    "#relu\n",
    "\n",
    "relu = torch.nn.ReLU()\n",
    "output_relu = relu(output)\n",
    "print('relu shape ', output_relu.shape)\n",
    "\n",
    "# maxpool"
   ]
  },
  {
   "cell_type": "code",
   "execution_count": null,
   "metadata": {},
   "outputs": [],
   "source": [
    "# pool of size=3, stride=2\n",
    "\n",
    "input_data = torch.randn(1, 1, 50)\n",
    "print('input shape ', input_data.shape)\n",
    "m = nn.MaxPool1d(1, stride=1)\n",
    "output = m(input_data)\n",
    "output.shape\n"
   ]
  },
  {
   "cell_type": "code",
   "execution_count": null,
   "metadata": {},
   "outputs": [],
   "source": [
    "a = torch.randn(1,1,10)\n",
    "#a = torch.randint(1,10, (1,1,10))\n",
    "a.shape\n",
    "a\n",
    "\n",
    "m = nn.MaxPool1d(3, stride=1)\n",
    "m_a = m(a)\n",
    "m_a.shape\n",
    "m_a"
   ]
  },
  {
   "cell_type": "code",
   "execution_count": null,
   "metadata": {},
   "outputs": [],
   "source": [
    "D_in = 10\n",
    "\n",
    "linear1 = torch.nn.Linear(D_in, D_in)\n",
    "linear2 = torch.nn.Linear(D_in, D_in)\n",
    "relu = torch.nn.ReLU()\n",
    "tanh_gate = torch.nn.Tanh()\n",
    "    \n"
   ]
  },
  {
   "cell_type": "code",
   "execution_count": null,
   "metadata": {},
   "outputs": [],
   "source": [
    "x_conv_out = torch.randn(40,15,D_in)\n",
    "print('Input shape ', x_conv_out.shape)\n",
    "\n",
    "x_proj = relu(linear1(x_conv_out))\n",
    "x_gate = tanh_gate(linear2(x_conv_out))\n",
    "\n",
    "\n",
    "x_proj.shape, x_gate.shape\n",
    "\n",
    "x_highway = (x_proj * x_gate) +  (1-x_gate)*x_conv_out # skip connection\n",
    "\n",
    "x_highway.shape"
   ]
  },
  {
   "cell_type": "code",
   "execution_count": null,
   "metadata": {},
   "outputs": [],
   "source": [
    "a = torch.randn(2,3)\n",
    "b = torch.randn(2,3)\n",
    "c = a * b\n",
    "print(c.shape)"
   ]
  },
  {
   "cell_type": "markdown",
   "metadata": {},
   "source": [
    "### Linear layer"
   ]
  },
  {
   "cell_type": "code",
   "execution_count": null,
   "metadata": {},
   "outputs": [],
   "source": [
    "linear_model = nn.Linear(3, 2, bias=False)  # (num of input features, num of output features, bias=True)\n",
    "print('weights are:',linear_model.weight, '\\n\\nbias are: ',linear_model.bias)\n",
    "\n",
    "numel_list = [p.numel() for p in linear_model.parameters()]\n",
    "print('Total parameters ', sum(numel_list), numel_list)"
   ]
  },
  {
   "cell_type": "code",
   "execution_count": null,
   "metadata": {},
   "outputs": [],
   "source": [
    "m = nn.Linear(20, 30)\n",
    "\n",
    "input_data = torch.randn(2, 128, 20)\n",
    "output = m(input_data)\n",
    "\n",
    "print(output.shape)\n"
   ]
  },
  {
   "cell_type": "code",
   "execution_count": null,
   "metadata": {},
   "outputs": [],
   "source": [
    "del input"
   ]
  },
  {
   "cell_type": "code",
   "execution_count": null,
   "metadata": {},
   "outputs": [],
   "source": []
  },
  {
   "cell_type": "code",
   "execution_count": null,
   "metadata": {},
   "outputs": [],
   "source": [
    "x = torch.ones(1) # batch is missing\n",
    "x.shape\n",
    "linear_model(x)"
   ]
  },
  {
   "cell_type": "code",
   "execution_count": null,
   "metadata": {},
   "outputs": [],
   "source": []
  },
  {
   "cell_type": "code",
   "execution_count": null,
   "metadata": {},
   "outputs": [],
   "source": [
    "a = torch.randn(1,1,10)\n",
    "#a = torch.randint(1,10, (1,1,10))\n",
    "a.shape\n",
    "a\n",
    "\n",
    "m = nn.MaxPool1d(3, stride=1)\n",
    "m_a = m(a)\n",
    "m_a.shape\n",
    "m_a\n",
    "\n"
   ]
  },
  {
   "cell_type": "code",
   "execution_count": null,
   "metadata": {},
   "outputs": [],
   "source": [
    "a = torch.randint(1,100, (2,3,4))\n",
    "a"
   ]
  },
  {
   "cell_type": "code",
   "execution_count": null,
   "metadata": {},
   "outputs": [],
   "source": [
    "b = torch.max(a, dim=2)\n",
    "type(b)"
   ]
  },
  {
   "cell_type": "code",
   "execution_count": null,
   "metadata": {},
   "outputs": [],
   "source": [
    "b.values.shape\n",
    "b.values"
   ]
  },
  {
   "cell_type": "code",
   "execution_count": null,
   "metadata": {},
   "outputs": [],
   "source": [
    "b[0].shape"
   ]
  },
  {
   "cell_type": "code",
   "execution_count": null,
   "metadata": {},
   "outputs": [],
   "source": [
    "b.indices"
   ]
  },
  {
   "cell_type": "markdown",
   "metadata": {},
   "source": [
    "## Pad sequence\n",
    "\n",
    "- Given variable lenght of the data, we want to pad them to uniform lenght\n",
    "- to do that, use pad_sequence().\n",
    "\n",
    "- Now, after padding, we see lot of padded value, a waste of space. \n",
    "- So, "
   ]
  },
  {
   "cell_type": "code",
   "execution_count": 94,
   "metadata": {},
   "outputs": [
    {
     "data": {
      "text/plain": [
       "torch.Size([3, 5, 4])"
      ]
     },
     "execution_count": 94,
     "metadata": {},
     "output_type": "execute_result"
    }
   ],
   "source": [
    "from torch.nn.utils.rnn import pad_sequence\n",
    "a = torch.randint(1,10,(5, 4))\n",
    "b = torch.randint(11,20,(4, 4))\n",
    "c = torch.randint(21,30,(3, 4))\n",
    "output = pad_sequence([a, b, c], batch_first = True, padding_value=100)\n",
    "output.shape"
   ]
  },
  {
   "cell_type": "code",
   "execution_count": 88,
   "metadata": {},
   "outputs": [
    {
     "data": {
      "text/plain": [
       "tensor([[9, 7, 7, 3],\n",
       "        [4, 1, 8, 8],\n",
       "        [9, 8, 4, 6],\n",
       "        [9, 3, 9, 9],\n",
       "        [7, 6, 4, 9]])"
      ]
     },
     "execution_count": 88,
     "metadata": {},
     "output_type": "execute_result"
    },
    {
     "data": {
      "text/plain": [
       "tensor([[13, 14, 19, 12],\n",
       "        [17, 14, 14, 17],\n",
       "        [17, 12, 16, 11],\n",
       "        [19, 16, 12, 18]])"
      ]
     },
     "execution_count": 88,
     "metadata": {},
     "output_type": "execute_result"
    },
    {
     "data": {
      "text/plain": [
       "tensor([[26, 27, 28, 29],\n",
       "        [29, 28, 25, 25],\n",
       "        [28, 21, 26, 25]])"
      ]
     },
     "execution_count": 88,
     "metadata": {},
     "output_type": "execute_result"
    }
   ],
   "source": [
    "a\n",
    "b\n",
    "c"
   ]
  },
  {
   "cell_type": "code",
   "execution_count": 107,
   "metadata": {},
   "outputs": [
    {
     "data": {
      "text/plain": [
       "torch.Size([3, 5, 4])"
      ]
     },
     "execution_count": 107,
     "metadata": {},
     "output_type": "execute_result"
    },
    {
     "data": {
      "text/plain": [
       "tensor([[[  1,   7,   9,   7],\n",
       "         [  4,   5,   3,   2],\n",
       "         [  6,   2,   1,   4],\n",
       "         [  4,   4,   9,   5],\n",
       "         [  4,   4,   7,   3]],\n",
       "\n",
       "        [[ 11,  19,  17,  19],\n",
       "         [ 17,  15,  19,  18],\n",
       "         [ 17,  14,  16,  15],\n",
       "         [ 18,  18,  16,  17],\n",
       "         [100, 100, 100, 100]],\n",
       "\n",
       "        [[ 28,  27,  26,  28],\n",
       "         [ 27,  21,  21,  28],\n",
       "         [ 23,  29,  23,  25],\n",
       "         [100, 100, 100, 100],\n",
       "         [100, 100, 100, 100]]])"
      ]
     },
     "execution_count": 107,
     "metadata": {},
     "output_type": "execute_result"
    }
   ],
   "source": [
    "output.shape\n",
    "output"
   ]
  },
  {
   "cell_type": "markdown",
   "metadata": {},
   "source": [
    "#### Compress the data by removing pad_token"
   ]
  },
  {
   "cell_type": "code",
   "execution_count": 96,
   "metadata": {},
   "outputs": [],
   "source": [
    "from torch.nn.utils.rnn import pack_padded_sequence, pad_packed_sequence\n",
    "\n",
    "new_output = pack_padded_sequence(output, [len(i) for i in [a,b,c]] ,batch_first=True)"
   ]
  },
  {
   "cell_type": "code",
   "execution_count": 106,
   "metadata": {},
   "outputs": [
    {
     "data": {
      "text/plain": [
       "PackedSequence(data=tensor([[ 1,  7,  9,  7],\n",
       "        [11, 19, 17, 19],\n",
       "        [28, 27, 26, 28],\n",
       "        [ 4,  5,  3,  2],\n",
       "        [17, 15, 19, 18],\n",
       "        [27, 21, 21, 28],\n",
       "        [ 6,  2,  1,  4],\n",
       "        [17, 14, 16, 15],\n",
       "        [23, 29, 23, 25],\n",
       "        [ 4,  4,  9,  5],\n",
       "        [18, 18, 16, 17],\n",
       "        [ 4,  4,  7,  3]]), batch_sizes=tensor([3, 3, 3, 2, 1]), sorted_indices=None, unsorted_indices=None)"
      ]
     },
     "execution_count": 106,
     "metadata": {},
     "output_type": "execute_result"
    }
   ],
   "source": [
    "new_output"
   ]
  },
  {
   "cell_type": "code",
   "execution_count": 108,
   "metadata": {},
   "outputs": [
    {
     "data": {
      "text/plain": [
       "tensor([[ 1,  7,  9,  7],\n",
       "        [11, 19, 17, 19],\n",
       "        [28, 27, 26, 28],\n",
       "        [ 4,  5,  3,  2],\n",
       "        [17, 15, 19, 18],\n",
       "        [27, 21, 21, 28],\n",
       "        [ 6,  2,  1,  4],\n",
       "        [17, 14, 16, 15],\n",
       "        [23, 29, 23, 25],\n",
       "        [ 4,  4,  9,  5],\n",
       "        [18, 18, 16, 17],\n",
       "        [ 4,  4,  7,  3]])"
      ]
     },
     "execution_count": 108,
     "metadata": {},
     "output_type": "execute_result"
    }
   ],
   "source": [
    "new_output.data"
   ]
  },
  {
   "cell_type": "code",
   "execution_count": 109,
   "metadata": {},
   "outputs": [
    {
     "data": {
      "text/plain": [
       "tensor([3, 3, 3, 2, 1])"
      ]
     },
     "execution_count": 109,
     "metadata": {},
     "output_type": "execute_result"
    }
   ],
   "source": [
    "new_output.batch_sizes"
   ]
  },
  {
   "cell_type": "markdown",
   "metadata": {},
   "source": [
    "#### Unpacked the compressed packed data"
   ]
  },
  {
   "cell_type": "code",
   "execution_count": 110,
   "metadata": {},
   "outputs": [],
   "source": [
    "seq_unpacked, lens_unpacked = pad_packed_sequence(new_output, batch_first=True)"
   ]
  },
  {
   "cell_type": "code",
   "execution_count": 112,
   "metadata": {},
   "outputs": [
    {
     "data": {
      "text/plain": [
       "tensor([5, 4, 3])"
      ]
     },
     "execution_count": 112,
     "metadata": {},
     "output_type": "execute_result"
    }
   ],
   "source": [
    "lens_unpacked"
   ]
  },
  {
   "cell_type": "code",
   "execution_count": 111,
   "metadata": {},
   "outputs": [
    {
     "data": {
      "text/plain": [
       "tensor([[[ 1,  7,  9,  7],\n",
       "         [ 4,  5,  3,  2],\n",
       "         [ 6,  2,  1,  4],\n",
       "         [ 4,  4,  9,  5],\n",
       "         [ 4,  4,  7,  3]],\n",
       "\n",
       "        [[11, 19, 17, 19],\n",
       "         [17, 15, 19, 18],\n",
       "         [17, 14, 16, 15],\n",
       "         [18, 18, 16, 17],\n",
       "         [ 0,  0,  0,  0]],\n",
       "\n",
       "        [[28, 27, 26, 28],\n",
       "         [27, 21, 21, 28],\n",
       "         [23, 29, 23, 25],\n",
       "         [ 0,  0,  0,  0],\n",
       "         [ 0,  0,  0,  0]]])"
      ]
     },
     "execution_count": 111,
     "metadata": {},
     "output_type": "execute_result"
    }
   ],
   "source": [
    "seq_unpacked"
   ]
  },
  {
   "cell_type": "markdown",
   "metadata": {},
   "source": [
    "### Log likelihood  entropy"
   ]
  },
  {
   "cell_type": "code",
   "execution_count": 241,
   "metadata": {},
   "outputs": [
    {
     "data": {
      "text/plain": [
       "tensor([[-0.9388,  1.0749,  2.3506,  1.8561,  1.0047],\n",
       "        [ 0.4089,  0.3882,  0.4298, -1.2429, -0.1434],\n",
       "        [ 1.1741, -0.7568, -0.0546, -0.0075, -0.2411]], requires_grad=True)"
      ]
     },
     "execution_count": 241,
     "metadata": {},
     "output_type": "execute_result"
    },
    {
     "data": {
      "text/plain": [
       "tensor([1, 0, 4])"
      ]
     },
     "execution_count": 241,
     "metadata": {},
     "output_type": "execute_result"
    },
    {
     "name": "stdout",
     "output_type": "stream",
     "text": [
      "a is the softmax of each row  tensor([[-4.0718, -2.0581, -0.7824, -1.2769, -2.1282],\n",
      "        [-1.3265, -1.3472, -1.3057, -2.9784, -1.8788],\n",
      "        [-0.6868, -2.6177, -1.9155, -1.8684, -2.1020]],\n",
      "       grad_fn=<LogSoftmaxBackward>)\n",
      "\n",
      "loss when sum is used  tensor(5.4866, grad_fn=<NegBackward>)\n",
      "loss when mean is used  tensor(1.8289, grad_fn=<DivBackward0>)\n"
     ]
    },
    {
     "data": {
      "text/plain": [
       "tensor(1.8289, grad_fn=<NllLossBackward>)"
      ]
     },
     "execution_count": 241,
     "metadata": {},
     "output_type": "execute_result"
    },
    {
     "name": "stdout",
     "output_type": "stream",
     "text": [
      "loss using  cross entropy \n"
     ]
    },
    {
     "data": {
      "text/plain": [
       "tensor(1.8289, grad_fn=<NllLossBackward>)"
      ]
     },
     "execution_count": 241,
     "metadata": {},
     "output_type": "execute_result"
    }
   ],
   "source": [
    "# this is when logsoftmax and loss (which is either sum or mean of the 'target' element)  \n",
    "\n",
    "\n",
    "input_data = torch.randn(3, 5, requires_grad=True)\n",
    "\n",
    "input_data\n",
    "# each element in target has to have 0 <= value < C\n",
    "target = torch.tensor([1, 0, 4])\n",
    "target\n",
    "\n",
    "softmax = nn.LogSoftmax(dim=1)\n",
    "a = softmax(input_data)\n",
    "\n",
    "print('a is the softmax of each row ', a)\n",
    "\n",
    "print()\n",
    "print('loss when sum is used ', -sum([a[i,j.item()] for i,j in enumerate(target)]))\n",
    "print('loss when mean is used ', -sum([a[i,j.item()] for i,j in enumerate(target)])/len(target))\n",
    "\n",
    "loss = nn.NLLLoss(reduction='mean')\n",
    "output = loss(softmax(input_data), target)\n",
    "output\n",
    "\n",
    "print(\"loss using  cross entropy \")\n",
    "cross_entropy_loss = nn.CrossEntropyLoss()\n",
    "cross_entropy_loss(input_data, target)\n",
    "\n"
   ]
  },
  {
   "cell_type": "code",
   "execution_count": 240,
   "metadata": {},
   "outputs": [
    {
     "data": {
      "text/plain": [
       "tensor(2.2538, grad_fn=<NllLossBackward>)"
      ]
     },
     "execution_count": 240,
     "metadata": {},
     "output_type": "execute_result"
    }
   ],
   "source": []
  },
  {
   "cell_type": "code",
   "execution_count": 225,
   "metadata": {},
   "outputs": [],
   "source": [
    ">>> loss = nn.CrossEntropyLoss()\n",
    ">>> input = torch.randn(3, 5, requires_grad=True)\n",
    ">>> target = torch.empty(3, dtype=torch.long).random_(5)\n",
    ">>> output = loss(input, target)\n"
   ]
  },
  {
   "cell_type": "code",
   "execution_count": 161,
   "metadata": {},
   "outputs": [
    {
     "data": {
      "text/plain": [
       "[[1.0,\n",
       "  2.718281828459045,\n",
       "  7.38905609893065,\n",
       "  20.085536923187668,\n",
       "  54.598150033144236],\n",
       " [148.4131591025766,\n",
       "  403.4287934927351,\n",
       "  1096.6331584284585,\n",
       "  2980.9579870417283,\n",
       "  8103.083927575384],\n",
       " [22026.465794806718,\n",
       "  59874.14171519782,\n",
       "  162754.79141900392,\n",
       "  442413.3920089205,\n",
       "  1202604.2841647768]]"
      ]
     },
     "execution_count": 161,
     "metadata": {},
     "output_type": "execute_result"
    }
   ],
   "source": [
    "rows = 3\n",
    "columns = 5\n",
    "\n",
    "[[np.exp(col+(columns*row))  for col in range(columns)] for row in range(rows)]"
   ]
  }
 ],
 "metadata": {
  "kernelspec": {
   "display_name": "NMT",
   "language": "python",
   "name": "nmt"
  },
  "language_info": {
   "codemirror_mode": {
    "name": "ipython",
    "version": 3
   },
   "file_extension": ".py",
   "mimetype": "text/x-python",
   "name": "python",
   "nbconvert_exporter": "python",
   "pygments_lexer": "ipython3",
   "version": "3.6.12"
  }
 },
 "nbformat": 4,
 "nbformat_minor": 4
}
